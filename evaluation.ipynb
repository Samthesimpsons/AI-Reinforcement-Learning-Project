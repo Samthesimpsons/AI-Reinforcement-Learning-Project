{
 "cells": [
  {
   "cell_type": "code",
   "execution_count": 1,
   "metadata": {},
   "outputs": [
    {
     "name": "stderr",
     "output_type": "stream",
     "text": [
      " 80%|████████  | 4/5 [04:30<00:53, 53.76s/it] "
     ]
    },
    {
     "name": "stdout",
     "output_type": "stream",
     "text": [
      "Time taken: 6.5157952308654785\n",
      "Average guesses: 5.594\n",
      "Total game losses out of 1000: 286\n",
      "Overall win rate: 71.39999999999999%\n"
     ]
    },
    {
     "name": "stderr",
     "output_type": "stream",
     "text": [
      "100%|██████████| 5/5 [04:37<00:00, 55.49s/it]"
     ]
    },
    {
     "name": "stdout",
     "output_type": "stream",
     "text": [
      "Time taken: 6.545577764511108\n",
      "Average guesses: 5.469\n",
      "Total game losses out of 1000: 254\n",
      "Overall win rate: 74.6%\n"
     ]
    },
    {
     "name": "stderr",
     "output_type": "stream",
     "text": [
      "\n"
     ]
    }
   ],
   "source": [
    "import pandas as pd\n",
    "import datetime\n",
    "from tqdm import tqdm\n",
    "from wordle_base import run_simulations as rl_base\n",
    "from wordle_cluster import run_simulations as rl_cluster\n",
    "from wordle_cluster_modified import run_simulations as rl_cluster_2\n",
    "from wordle_greedy_search import run_simulations as greed_search\n",
    "from wordle_greedy_search_modified import run_simulations as greed_search_2\n",
    "\n",
    "results = pd.DataFrame(columns=['time_taken', 'average_guesses', 'win_rate', 'guesses'])\n",
    "for i in tqdm(range(5)):\n",
    "    if i == 0:\n",
    "        time_taken, average_guesses, win_rate, guesses = rl_base(learning_rate=0.1, exploration_rate=0.8, shrinkage_factor=0.8, num_simulations=100)\n",
    "        results.loc[0] = [time_taken, average_guesses, win_rate, guesses]\n",
    "    elif i == 1:\n",
    "        time_taken, average_guesses, win_rate, guesses = rl_cluster(learning_rate=0.1, exploration_rate=0.5, number_of_cluster=6 ,shrinkage_factor=0.9, num_simulations=1000)\n",
    "        results.loc[1] = [time_taken, average_guesses, win_rate, guesses]\n",
    "    elif i == 2:\n",
    "        time_taken, average_guesses, win_rate, guesses = rl_cluster_2(learning_rate=0.001, exploration_rate=0.9, number_of_cluster=9, shrinkage_factor=0.9, num_simulations=1000)\n",
    "        results.loc[2] = [time_taken, average_guesses, win_rate, guesses]\n",
    "    elif i == 3:\n",
    "        time_taken, average_guesses, win_rate, guesses = greed_search(num_simulations=1000)\n",
    "        results.loc[3] = [time_taken, average_guesses, win_rate, guesses]\n",
    "    elif i == 4:\n",
    "        time_taken, average_guesses, win_rate, guesses = greed_search_2(num_simulations=1000)\n",
    "        results.loc[4] = [time_taken, average_guesses, win_rate, guesses]\n",
    "\n",
    "# get today date and time as string\n",
    "today = datetime.date.today()\n",
    "today = today.strftime(\"%d%m%Y\")\n",
    "\n",
    "results.to_csv('evaluation_results/{}_results.csv'.format(today), index=False)"
   ]
  },
  {
   "cell_type": "code",
   "execution_count": 2,
   "metadata": {},
   "outputs": [
    {
     "data": {
      "text/html": [
       "<div>\n",
       "<style scoped>\n",
       "    .dataframe tbody tr th:only-of-type {\n",
       "        vertical-align: middle;\n",
       "    }\n",
       "\n",
       "    .dataframe tbody tr th {\n",
       "        vertical-align: top;\n",
       "    }\n",
       "\n",
       "    .dataframe thead th {\n",
       "        text-align: right;\n",
       "    }\n",
       "</style>\n",
       "<table border=\"1\" class=\"dataframe\">\n",
       "  <thead>\n",
       "    <tr style=\"text-align: right;\">\n",
       "      <th></th>\n",
       "      <th>time_taken</th>\n",
       "      <th>average_guesses</th>\n",
       "      <th>win_rate</th>\n",
       "      <th>guesses</th>\n",
       "    </tr>\n",
       "  </thead>\n",
       "  <tbody>\n",
       "    <tr>\n",
       "      <th>0</th>\n",
       "      <td>13.359450</td>\n",
       "      <td>6.190</td>\n",
       "      <td>64.0</td>\n",
       "      <td>[7.0, 5.0, 5.0, 10.0, 4.0, 5.0, 3.0, 7.0, 7.0,...</td>\n",
       "    </tr>\n",
       "    <tr>\n",
       "      <th>1</th>\n",
       "      <td>240.922914</td>\n",
       "      <td>4.934</td>\n",
       "      <td>87.0</td>\n",
       "      <td>[4.0, 5.0, 3.0, 8.0, 4.0, 3.0, 4.0, 3.0, 5.0, ...</td>\n",
       "    </tr>\n",
       "    <tr>\n",
       "      <th>2</th>\n",
       "      <td>9.950510</td>\n",
       "      <td>4.112</td>\n",
       "      <td>97.5</td>\n",
       "      <td>[4.0, 3.0, 4.0, 4.0, 3.0, 3.0, 3.0, 4.0, 3.0, ...</td>\n",
       "    </tr>\n",
       "    <tr>\n",
       "      <th>3</th>\n",
       "      <td>6.515795</td>\n",
       "      <td>5.594</td>\n",
       "      <td>71.4</td>\n",
       "      <td>[11.0, 3.0, 5.0, 7.0, 6.0, 12.0, 6.0, 7.0, 2.0...</td>\n",
       "    </tr>\n",
       "    <tr>\n",
       "      <th>4</th>\n",
       "      <td>6.545578</td>\n",
       "      <td>5.469</td>\n",
       "      <td>74.6</td>\n",
       "      <td>[4.0, 7.0, 5.0, 7.0, 4.0, 4.0, 4.0, 5.0, 3.0, ...</td>\n",
       "    </tr>\n",
       "  </tbody>\n",
       "</table>\n",
       "</div>"
      ],
      "text/plain": [
       "   time_taken  average_guesses  win_rate  \\\n",
       "0   13.359450            6.190      64.0   \n",
       "1  240.922914            4.934      87.0   \n",
       "2    9.950510            4.112      97.5   \n",
       "3    6.515795            5.594      71.4   \n",
       "4    6.545578            5.469      74.6   \n",
       "\n",
       "                                             guesses  \n",
       "0  [7.0, 5.0, 5.0, 10.0, 4.0, 5.0, 3.0, 7.0, 7.0,...  \n",
       "1  [4.0, 5.0, 3.0, 8.0, 4.0, 3.0, 4.0, 3.0, 5.0, ...  \n",
       "2  [4.0, 3.0, 4.0, 4.0, 3.0, 3.0, 3.0, 4.0, 3.0, ...  \n",
       "3  [11.0, 3.0, 5.0, 7.0, 6.0, 12.0, 6.0, 7.0, 2.0...  \n",
       "4  [4.0, 7.0, 5.0, 7.0, 4.0, 4.0, 4.0, 5.0, 3.0, ...  "
      ]
     },
     "execution_count": 2,
     "metadata": {},
     "output_type": "execute_result"
    }
   ],
   "source": [
    "results"
   ]
  },
  {
   "cell_type": "code",
   "execution_count": null,
   "metadata": {},
   "outputs": [],
   "source": [
    "import numpy as np \n",
    "import matplotlib.pyplot as plt\n",
    "\n",
    "epochs = np.arange(1000)\n",
    "plt.plot(epochs, results  )\n"
   ]
  }
 ],
 "metadata": {
  "kernelspec": {
   "display_name": "Python 3.10.4 ('data_science')",
   "language": "python",
   "name": "python3"
  },
  "language_info": {
   "codemirror_mode": {
    "name": "ipython",
    "version": 3
   },
   "file_extension": ".py",
   "mimetype": "text/x-python",
   "name": "python",
   "nbconvert_exporter": "python",
   "pygments_lexer": "ipython3",
   "version": "3.10.4"
  },
  "orig_nbformat": 4,
  "vscode": {
   "interpreter": {
    "hash": "ec18ae124fb7ff17ee29ebf19e741c06b30197736ff00dfba64476edf53b661f"
   }
  }
 },
 "nbformat": 4,
 "nbformat_minor": 2
}
