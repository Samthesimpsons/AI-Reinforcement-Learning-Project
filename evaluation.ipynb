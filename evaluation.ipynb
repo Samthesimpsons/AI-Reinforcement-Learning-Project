{
 "cells": [
  {
   "cell_type": "code",
   "execution_count": 1,
   "metadata": {},
   "outputs": [
    {
     "name": "stderr",
     "output_type": "stream",
     "text": [
      "100%|██████████| 5/5 [07:50<00:00, 94.00s/it] \n"
     ]
    }
   ],
   "source": [
    "import numpy as np \n",
    "import pandas as pd\n",
    "from tqdm import tqdm\n",
    "import matplotlib.pyplot as plt\n",
    "from wordle_base_15k import run_simulations as rl_base\n",
    "from wordle_cluster_15k import run_simulations as rl_cluster\n",
    "from wordle_cluster_2k import run_simulations as rl_cluster_2\n",
    "from wordle_greedy_search_15k import run_simulations as greed_search\n",
    "from wordle_greedy_search_2k import run_simulations as greed_search_2\n",
    "\n",
    "results = pd.DataFrame(columns=['time_taken', 'average_guesses', 'win_rate'])\n",
    "\n",
    "for i in tqdm(range(5)):\n",
    "    if i == 0:\n",
    "        time_taken, average_guesses, win_rate, guesses = rl_base(learning_rate=0.1, exploration_rate=0.8, shrinkage_factor=0.8, num_simulations=1000)\n",
    "        base_guesses = guesses\n",
    "        results.loc[0] = [time_taken, average_guesses, win_rate]\n",
    "    elif i == 1:\n",
    "        time_taken, average_guesses, win_rate, guesses = rl_cluster(learning_rate=0.1, exploration_rate=0.5, number_of_cluster=6 ,shrinkage_factor=0.9, num_simulations=1000)\n",
    "        cluster_guesses = guesses\n",
    "        results.loc[1] = [time_taken, average_guesses, win_rate]\n",
    "    elif i == 2:\n",
    "        time_taken, average_guesses, win_rate, guesses = rl_cluster_2(learning_rate=0.1, exploration_rate=0.9, number_of_cluster=10, shrinkage_factor=0.9, num_simulations=1000)\n",
    "        cluster_2_guesses = guesses\n",
    "        results.loc[2] = [time_taken, average_guesses, win_rate]\n",
    "    elif i == 3:\n",
    "        time_taken, average_guesses, win_rate, guesses = greed_search(num_simulations=1000)\n",
    "        greedy_search_guesses = guesses\n",
    "        results.loc[3] = [time_taken, average_guesses, win_rate]\n",
    "    elif i == 4:\n",
    "        time_taken, average_guesses, win_rate, guesses = greed_search_2(num_simulations=1000)\n",
    "        greedy_search_2_guesses = guesses\n",
    "        results.loc[4] = [time_taken, average_guesses, win_rate]\n",
    "\n",
    "results.to_csv('evaluation_results/results.csv')\n",
    "np.save('evaluation_results/base_guesses.npy', base_guesses)\n",
    "np.save('evaluation_results/cluster_guesses.npy', cluster_guesses)\n",
    "np.save('evaluation_results/cluster_2_guesses.npy', cluster_2_guesses)\n",
    "np.save('evaluation_results/greedy_search_guesses.npy', greedy_search_guesses)\n",
    "np.save('evaluation_results/greedy_search_2_guesses.npy', greedy_search_2_guesses)"
   ]
  },
  {
   "cell_type": "code",
   "execution_count": 2,
   "metadata": {},
   "outputs": [
    {
     "data": {
      "text/html": [
       "<div>\n",
       "<style scoped>\n",
       "    .dataframe tbody tr th:only-of-type {\n",
       "        vertical-align: middle;\n",
       "    }\n",
       "\n",
       "    .dataframe tbody tr th {\n",
       "        vertical-align: top;\n",
       "    }\n",
       "\n",
       "    .dataframe thead th {\n",
       "        text-align: right;\n",
       "    }\n",
       "</style>\n",
       "<table border=\"1\" class=\"dataframe\">\n",
       "  <thead>\n",
       "    <tr style=\"text-align: right;\">\n",
       "      <th></th>\n",
       "      <th>Unnamed: 0</th>\n",
       "      <th>time_taken</th>\n",
       "      <th>average_guesses</th>\n",
       "      <th>win_rate</th>\n",
       "    </tr>\n",
       "  </thead>\n",
       "  <tbody>\n",
       "    <tr>\n",
       "      <th>0</th>\n",
       "      <td>0</td>\n",
       "      <td>148.559640</td>\n",
       "      <td>6.153</td>\n",
       "      <td>65.8</td>\n",
       "    </tr>\n",
       "    <tr>\n",
       "      <th>1</th>\n",
       "      <td>1</td>\n",
       "      <td>261.004483</td>\n",
       "      <td>4.925</td>\n",
       "      <td>88.0</td>\n",
       "    </tr>\n",
       "    <tr>\n",
       "      <th>2</th>\n",
       "      <td>2</td>\n",
       "      <td>10.697975</td>\n",
       "      <td>4.049</td>\n",
       "      <td>97.3</td>\n",
       "    </tr>\n",
       "    <tr>\n",
       "      <th>3</th>\n",
       "      <td>3</td>\n",
       "      <td>42.305436</td>\n",
       "      <td>7.066</td>\n",
       "      <td>44.9</td>\n",
       "    </tr>\n",
       "    <tr>\n",
       "      <th>4</th>\n",
       "      <td>4</td>\n",
       "      <td>7.302881</td>\n",
       "      <td>5.430</td>\n",
       "      <td>75.8</td>\n",
       "    </tr>\n",
       "  </tbody>\n",
       "</table>\n",
       "</div>"
      ],
      "text/plain": [
       "   Unnamed: 0  time_taken  average_guesses  win_rate\n",
       "0           0  148.559640            6.153      65.8\n",
       "1           1  261.004483            4.925      88.0\n",
       "2           2   10.697975            4.049      97.3\n",
       "3           3   42.305436            7.066      44.9\n",
       "4           4    7.302881            5.430      75.8"
      ]
     },
     "execution_count": 2,
     "metadata": {},
     "output_type": "execute_result"
    }
   ],
   "source": [
    "results = pd.read_csv('evaluation_results/results.csv')\n",
    "base_guesses = np.load('evaluation_results/base_guesses.npy')\n",
    "cluster_guesses = np.load('evaluation_results/cluster_guesses.npy')\n",
    "cluster_2_guesses = np.load('evaluation_results/cluster_2_guesses.npy')\n",
    "greedy_search_guesses = np.load('evaluation_results/greedy_search_guesses.npy')\n",
    "greedy_search_2_guesses = np.load('evaluation_results/greedy_search_2_guesses.npy')\n",
    "results"
   ]
  },
  {
   "cell_type": "code",
   "execution_count": 4,
   "metadata": {},
   "outputs": [
    {
     "data": {
      "text/plain": [
       "Text(0.5, 1.0, 'Greedy Search 2')"
      ]
     },
     "execution_count": 4,
     "metadata": {},
     "output_type": "execute_result"
    },
    {
     "data": {
      "image/png": "[encoded data removed]",
      "text/plain": [
       "<Figure size 720x720 with 6 Axes>"
      ]
     },
     "metadata": {
      "needs_background": "light"
     },
     "output_type": "display_data"
    }
   ],
   "source": [
    "epochs = np.arange(1000)\n",
    "\n",
    "fig, ax = plt.subplots(3, 2, figsize=(10, 10))\n",
    "ax[0, 0].bar(epochs, base_guesses, color='blue')\n",
    "ax[0, 0].set_title('Base')\n",
    "ax[0, 1].bar(epochs, cluster_guesses, color='blue')\n",
    "ax[0, 1].set_title('Cluster')\n",
    "ax[1, 0].bar(epochs, cluster_2_guesses, color='blue')\n",
    "ax[1, 0].set_title('Cluster 2')\n",
    "ax[1, 1].bar(epochs, greedy_search_guesses, color='blue')\n",
    "ax[1, 1].set_title('Greedy Search')\n",
    "ax[2, 0].bar(epochs, greedy_search_2_guesses, color='blue')\n",
    "ax[2, 0].set_title('Greedy Search 2')"
   ]
  }
 ],
 "metadata": {
  "kernelspec": {
   "display_name": "Python 3.10.4 ('data_science')",
   "language": "python",
   "name": "python3"
  },
  "language_info": {
   "codemirror_mode": {
    "name": "ipython",
    "version": 3
   },
   "file_extension": ".py",
   "mimetype": "text/x-python",
   "name": "python",
   "nbconvert_exporter": "python",
   "pygments_lexer": "ipython3",
   "version": "3.10.4"
  },
  "orig_nbformat": 4,
  "vscode": {
   "interpreter": {
    "hash": "ec18ae124fb7ff17ee29ebf19e741c06b30197736ff00dfba64476edf53b661f"
   }
  }
 },
 "nbformat": 4,
 "nbformat_minor": 2
}
