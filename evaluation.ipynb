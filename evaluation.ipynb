{
 "cells": [
  {
   "cell_type": "markdown",
   "metadata": {},
   "source": [
    "# Grid Search of parameters"
   ]
  },
  {
   "cell_type": "code",
   "execution_count": null,
   "metadata": {},
   "outputs": [],
   "source": [
    "from wordle_base import run_simulations as rl_base\n",
    "from wordle_cluster import run_simulations as rl_cluster\n",
    "from wordle_cluster_2 import run_simulations as rl_cluster_2\n",
    "import pandas as pd\n",
    "\n",
    "learning_rates = [0.1, 0.01]    \n",
    "exploration_rates = [0.1, 0.5, 0.6, 0.7, 0.8, 0.9]\n",
    "shrinkage_factors = [0.5, 0.6, 0.7, 0.8, 0.9]\n",
    "num_of_clusters = [1, 2, 3, 4, 5]"
   ]
  },
  {
   "cell_type": "code",
   "execution_count": null,
   "metadata": {},
   "outputs": [],
   "source": [
    "df_1 = pd.DataFrame(columns=['learning_rate', 'exploration_rate', 'shrinkage_factor', 'time_taken', 'average_guesses', 'win_rate'])\n",
    "\n",
    "for i, alpha in enumerate(learning_rates):\n",
    "    for j, epsilon in enumerate(exploration_rates):\n",
    "        for k, gamma in enumerate(shrinkage_factors):\n",
    "            print(f'Running epoch {i}, {j}, {k}')\n",
    "            time_taken, average_guesses, win_rate, epoch, guesses = rl_base(learning_rate=alpha, exploration_rate=epsilon, shrinkage_factor=gamma, num_simulations=100)\n",
    "            df_1.loc[len(df_1)] = [alpha, epsilon, gamma, time_taken, average_guesses, win_rate]\n",
    "            \n",
    "df_1.to_csv('results_base.csv', index=False)\n",
    "df_1.loc[df_1['win_rate'].idxmax()]"
   ]
  },
  {
   "cell_type": "code",
   "execution_count": null,
   "metadata": {},
   "outputs": [],
   "source": [
    "df_2 = pd.DataFrame(columns=['learning_rate', 'exploration_rate', 'shrinkage_factor', 'num_of_clusters', 'time_taken', 'average_guesses', 'win_rate'])\n",
    "\n",
    "for alpha in learning_rates:\n",
    "    for epsilon in exploration_rates:\n",
    "        for gamma in shrinkage_factors:\n",
    "            for num_clusters in num_of_clusters:\n",
    "                print(f'Running epoch {i}, {j}, {k}')\n",
    "                time_taken, average_guesses, win_rate, epoch, guesses = rl_cluster(learning_rate=alpha, exploration_rate=epsilon, shrinkage_factor=gamma, number_of_cluster=num_clusters, num_simulations=100)\n",
    "                df_2.loc[len(df_2)] = [alpha, epsilon, gamma, num_clusters, time_taken, average_guesses, win_rate]\n",
    "\n",
    "df_2.to_csv('results_cluster.csv', index=False)\n",
    "df_2.loc[df_2['win_rate'].idxmax()]"
   ]
  },
  {
   "cell_type": "code",
   "execution_count": null,
   "metadata": {},
   "outputs": [],
   "source": [
    "df_3 = pd.DataFrame(columns=['learning_rate', 'exploration_rate', 'shrinkage_factor', 'num_of_clusters', 'time_taken', 'average_guesses', 'win_rate'])\n",
    "\n",
    "for alpha in learning_rates:\n",
    "    for epsilon in exploration_rates:\n",
    "        for gamma in shrinkage_factors:\n",
    "            for num_clusters in num_of_clusters:\n",
    "                print(f'Running epoch {i}, {j}, {k}')\n",
    "                time_taken, average_guesses, win_rate, epoch, guesses = rl_cluster_2(learning_rate=alpha, exploration_rate=epsilon, shrinkage_factor=gamma, number_of_cluster=num_clusters, num_simulations=100)\n",
    "                df_3.loc[len(df_3)] = [alpha, epsilon, gamma, num_clusters, time_taken, average_guesses, win_rate]\n",
    "\n",
    "df_3.to_csv('results_cluster_2.csv', index=False)\n",
    "df_3.loc[df_3['win_rate'].idxmax()]"
   ]
  }
 ],
 "metadata": {
  "kernelspec": {
   "display_name": "Python 3.10.4 ('data_science')",
   "language": "python",
   "name": "python3"
  },
  "language_info": {
   "codemirror_mode": {
    "name": "ipython",
    "version": 3
   },
   "file_extension": ".py",
   "mimetype": "text/x-python",
   "name": "python",
   "nbconvert_exporter": "python",
   "pygments_lexer": "ipython3",
   "version": "3.10.4"
  },
  "orig_nbformat": 4,
  "vscode": {
   "interpreter": {
    "hash": "ec18ae124fb7ff17ee29ebf19e741c06b30197736ff00dfba64476edf53b661f"
   }
  }
 },
 "nbformat": 4,
 "nbformat_minor": 2
}
